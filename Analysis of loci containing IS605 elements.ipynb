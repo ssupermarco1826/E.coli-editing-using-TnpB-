{
 "cells": [
  {
   "cell_type": "code",
   "execution_count": null,
   "id": "7d518eab",
   "metadata": {},
   "outputs": [],
   "source": [
    "#Determine whether the sequence contains non-ATGC characters.\n",
    "def contains_invalid_chars(sequence):\n",
    "\n",
    "    valid_chars = ['A','T','G','C']\n",
    "    for char in sequence:\n",
    "        if char not in valid_chars:\n",
    "            #print(char)\n",
    "            return True\n",
    "    return False\n",
    "        "
   ]
  },
  {
   "cell_type": "code",
   "execution_count": null,
   "id": "1c4bf3e5",
   "metadata": {},
   "outputs": [],
   "source": [
    "#removing all records from genomes where any derived sequences contained inaccuracies\n",
    "import pandas as pd\n",
    "#Open the Supplementary Table 1 with the header and caption removed.\n",
    "download = pd.read_excel(r'Supplementary Tables.xlsx', sheet_name='Supplementary Table 1')\n",
    "\n",
    "to_delete=[]\n",
    "for index, row in download.iterrows():\n",
    "    if contains_invalid_chars(row['Sequence']) == True:\n",
    "        to_delete.append(row['Accession number'])\n",
    "print(to_delete)\n",
    "\n",
    "# Filter the DataFrame to remove rows where acc_num is in the to_delete liindexst\n",
    "clean_data = download[~download['Accession number'].isin(to_delete)]\n",
    "print(clean_data)"
   ]
  },
  {
   "cell_type": "code",
   "execution_count": null,
   "id": "ec456e89",
   "metadata": {},
   "outputs": [],
   "source": [
    "#Calculate the copy number for each Accession number.\n",
    "acc_counts = clean_data['Accession number'].value_counts()\n",
    "\n",
    "acc_counts_df = acc_counts.reset_index()\n",
    "acc_counts_df.columns = ['Accession number', 'copynumber']\n",
    "print(acc_counts_df)\n",
    "print('__________')\n",
    "clean_data=pd.merge(left=clean_data, right=acc_counts_df, left_on='Accession number', right_on='Accession number',how='left')\n",
    "clean_data['Accession number'] = clean_data.apply(lambda row: f\"{row['Accession number']}_{row.name}\", axis=1)\n",
    "print(clean_data)"
   ]
  },
  {
   "cell_type": "code",
   "execution_count": null,
   "id": "424a80eb",
   "metadata": {},
   "outputs": [],
   "source": [
    "#Print the downloaded sequences and save them as a file named clean_tnpB_loci.fast for use as a local BLAST database.\n",
    "for index, row in clean_data.iterrows():\n",
    "    print(f\">{row['Accession number']}\")\n",
    "    print(row['Sequence'])"
   ]
  },
  {
   "cell_type": "code",
   "execution_count": null,
   "id": "0735ef33",
   "metadata": {},
   "outputs": [],
   "source": [
    "#Buide the local BLAST for clean_tnpB_loci\n",
    "import subprocess\n",
    "command = \"makeblastdb -in clean_tnpB_loci.fasta -dbtype nucl\"\n",
    "subprocess.run(command, shell=True)"
   ]
  },
  {
   "cell_type": "code",
   "execution_count": null,
   "id": "897f148f",
   "metadata": {},
   "outputs": [],
   "source": [
    "#Align the tnpA of BL21 (DE3) against clean_tnpB_loci.fast.\n",
    "command = \"blastn -query bl21_TnpA_nucl.fasta -db clean_tnpB_loci.fasta -evalue 1e-3 -num_threads 4 -out bl21_TnpA_nucl_vs_clean_tnpB_loci.xml -max_target_seqs 6000 -max_hsps 1 -outfmt 5\"\n",
    "subprocess.run(command, shell=True)"
   ]
  },
  {
   "cell_type": "code",
   "execution_count": null,
   "id": "d14b71c7",
   "metadata": {},
   "outputs": [],
   "source": [
    "#Determine if tnpA is intact\n",
    "from Bio.Blast import NCBIXML\n",
    "from Bio.Seq import Seq\n",
    "import re\n",
    "\n",
    "# Create an empty list to store DataFrames\n",
    "TnpA_stutas=[]\n",
    "\n",
    "with open('bl21_TnpA_nucl_vs_clean_tnpB_loci.xml') as result_handle:\n",
    "    blast_record = NCBIXML.read(result_handle)\n",
    "    n=0\n",
    "\n",
    "    for alignment in blast_record.alignments:\n",
    "        for hsp in alignment.hsps:\n",
    "            ID = alignment.title.split(\" \", 1)[1]\n",
    "            sbjct_clean = re.sub(r'[^ATGC]', '', hsp.sbjct)\n",
    "            TnpA_pro = Seq(sbjct_clean).reverse_complement().translate()\n",
    "            if hsp.sbjct_end < hsp.sbjct_start:\n",
    "                print(\"The tnpB and tnpA are in same direction\")\n",
    "            if len(TnpA_pro) > 135 and \"*\" not in str(TnpA_pro):\n",
    "                TnpA_ORF='intact'\n",
    "            else:\n",
    "                TnpA_ORF='incomplete'\n",
    "            TnpA_stutas.append({\n",
    "                    'ID': ID,\n",
    "                    'TnpA_pro_seq':str(TnpA_pro),\n",
    "                    'TnpA_start':hsp.sbjct_start,\n",
    "                    'TnpA_end':hsp.sbjct_end,\n",
    "                    'TnpA_ORF':TnpA_ORF\n",
    "            })\n",
    "            \n",
    "    df_TnpA=pd.DataFrame(TnpA_stutas)\n",
    "\n",
    "tnpB_loci_TnpA=pd.merge(left=clean_data,right=df_TnpA,left_on='Accession number',right_on='ID',how='left')\n",
    "print(tnpB_loci_TnpA)"
   ]
  },
  {
   "cell_type": "code",
   "execution_count": null,
   "id": "776f0305",
   "metadata": {},
   "outputs": [],
   "source": [
    "#Align the TTTAT TAM followed by the TAM+LE sequence of IS605 element from E. coli BL21 (DE3) against clean_tnpB_loci.\n",
    "import subprocess\n",
    "command = \"blastn -query TAM_Le_seq.fasta -db clean_tnpB_loci.fasta -evalue 0.01 -num_threads 4 -out TAM_Le_seq_vs_upstream_tnpA.xml -max_target_seqs 6000 -max_hsps 1 -outfmt 5\"\n",
    "subprocess.run(command, shell=True)"
   ]
  },
  {
   "cell_type": "code",
   "execution_count": null,
   "id": "a5fd2ca2",
   "metadata": {},
   "outputs": [],
   "source": [
    "#Count the types of TAMs\n",
    "from collections import Counter\n",
    "\n",
    "# Create an empty list to store DataFrames\n",
    "\n",
    "TAM=[]\n",
    "with open('TAM_Le_seq_vs_upstream_tnpA.xml') as result_handle:\n",
    "    blast_record = NCBIXML.read(result_handle)\n",
    "    for alignment in blast_record.alignments:\n",
    "        for hsp in alignment.hsps:\n",
    "            ID=alignment.title.split(\" \", 1)[1]\n",
    "            TAM.append({\n",
    "                    'ID': ID,\n",
    "                    'TAM':tnpB_loci_TnpA[tnpB_loci_TnpA['Accession number'] == ID]['Sequence'].values[0][hsp.sbjct_start-hsp.query_start:hsp.sbjct_start-hsp.query_start+5]\n",
    "            })\n",
    "            #TAM.append(IS605_TnpA[IS605_TnpA['acc_num'] == ID]['genome_sequence'].values[0][hsp.sbjct_start-hsp.query_start-5:hsp.sbjct_start-hsp.query_start])\n",
    "    df_TAM=pd.DataFrame(TAM)\n",
    "    print(df_TAM)\n",
    "tnpB_loci_TnpA_TAM=pd.merge(left=tnpB_loci_TnpA,right=df_TAM,left_on='Accession number',right_on='ID',how='left')\n",
    "\n",
    "tam_counts = Counter([entry['TAM'] for entry in TAM])\n",
    "print(tam_counts)"
   ]
  },
  {
   "cell_type": "code",
   "execution_count": null,
   "id": "fc1b93d1",
   "metadata": {},
   "outputs": [],
   "source": []
  }
 ],
 "metadata": {
  "kernelspec": {
   "display_name": "Python 3 (ipykernel)",
   "language": "python",
   "name": "python3"
  },
  "language_info": {
   "codemirror_mode": {
    "name": "ipython",
    "version": 3
   },
   "file_extension": ".py",
   "mimetype": "text/x-python",
   "name": "python",
   "nbconvert_exporter": "python",
   "pygments_lexer": "ipython3",
   "version": "3.9.12"
  }
 },
 "nbformat": 4,
 "nbformat_minor": 5
}
